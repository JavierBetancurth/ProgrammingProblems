{
  "nbformat": 4,
  "nbformat_minor": 0,
  "metadata": {
    "colab": {
      "provenance": []
    },
    "kernelspec": {
      "name": "python3",
      "display_name": "Python 3"
    },
    "language_info": {
      "name": "python"
    }
  },
  "cells": [
    {
      "cell_type": "markdown",
      "source": [
        "## $${\\color{#BE3455}\\LARGE\\textbf{Welcome to GitHub Programming Problems!}}$$"
      ],
      "metadata": {
        "id": "gGUMHqIPVws1"
      }
    },
    {
      "cell_type": "markdown",
      "source": [
        "### ${\\color{#BE3455}\\Large\\textbf{Programming Problem 1}}$"
      ],
      "metadata": {
        "id": "xE8DMI3fMCMF"
      }
    },
    {
      "cell_type": "markdown",
      "source": [
        "<p align=\"justify\">If we list all the natural numbers below $10$ that are multiples of $3$ or $5$, we get $\\left[3, 5, 6, 9\\right]$. The sum of these multiples is $23$.</p>\n",
        "\n",
        "${\\color{#BE3455}\\Large\\textbf{Target:}}$\n",
        "<p>Find the sum of all the multiples of $3$ or $5$ below $1000$.</p>\n",
        "\n",
        "---\n",
        "\n",
        "${\\color{#BE3455}\\tiny\\text{Problem from Project Euler}}$\n"
      ],
      "metadata": {
        "id": "ZIxopMRDWCAc"
      }
    },
    {
      "cell_type": "markdown",
      "source": [
        "### ${\\color{#BE3455}\\Large\\textbf{Hint-0:}}$"
      ],
      "metadata": {
        "id": "ktByXN-qKW-d"
      }
    },
    {
      "cell_type": "markdown",
      "source": [
        "<p align=\"justify\"> First, calculate the sum of the multiples of $3$ and the sum of the multiples of $5$ separately. Then, subtract the sum of the multiples of $15$ (to avoid double counting) from the total sum. Compute the answer without having to iterate through all numbers from $1, 2, 3,\\dotsc, 999$ to check if they are multiples of $3$ or $5$ for efficient calculation (Algorithmic efficiency).</p>"
      ],
      "metadata": {
        "id": "DnHIusNHIvaw"
      }
    },
    {
      "cell_type": "markdown",
      "source": [
        "### ${\\color{#BE3455}\\small\\textbf{Good luck with solving the problem!}}$"
      ],
      "metadata": {
        "id": "TwbRsD79G7rJ"
      }
    },
    {
      "cell_type": "code",
      "source": [
        "import time\n",
        "\n",
        "def sum_multiples(limit):\n",
        "    # YOUR CODE HERE\n",
        "\n",
        "    return sum_of_multiples\n",
        "\n",
        "if __name__ == \"__main__\":\n",
        "    start_time = time.time()\n",
        "    result = sum_multiples(1000)\n",
        "    end_time = time.time()\n",
        "\n",
        "    print(\"Summation of multiples of 3 or 5 below 1000:\", result)\n",
        "    print(\"Time taken:\", end_time - start_time, \"seconds\")\n",
        "\n",
        "# RESULT\n",
        "\"\"\"\n",
        "Summation of multiples of 3 or 5 below 1000: 233168\n",
        "Time taken: 5.9604644775390625e-06 seconds\n",
        "\n",
        "\"\"\""
      ],
      "metadata": {
        "id": "WPxaA-3hGBVv"
      },
      "execution_count": null,
      "outputs": []
    },
    {
      "cell_type": "markdown",
      "source": [
        "### ${\\color{#BE3455}\\Large\\textbf{Hint-1:}}$"
      ],
      "metadata": {
        "id": "LdgZJbppIMZ5"
      }
    },
    {
      "cell_type": "markdown",
      "source": [
        "<p align=\"justify\"> For this problem, we can reduce operations to a few by using the sum of an  arithmetic progression.\n",
        "\n",
        "- <p align=\"justify\"> Arithmetic progression: A sequence of numbers in which the difference between any two consecutive terms is constant. This constant difference is called the \"common difference\" or \"arithmetic ratio\" and is typically denoted as $d$ or $r$. In an arithmetic progression, each term after the first one is obtained by adding the common difference to the previous term.</p>\n",
        "\n",
        "  The general formula for an arithmetic progression is:\n",
        "\n",
        "  $$a_n = a_1 + (n - 1) \\cdot d$$\n",
        "\n",
        "  Where:\n",
        "  - $a_n$ is the term at position $n$\n",
        "  - $a_1$ is the first term of the sequence.\n",
        "  - $d$ is the common difference (or arithmetic ratio).\n",
        "  - $n$ is the position of the term you want to calculate ($n$ terms being added)\n",
        "\n",
        "  <p align=\"justify\">For example, consider the arithmetic progression: $2, 5, 8, 11, 14$. Here, the first term $a_1$ is $2$, and the common difference $d$ between each consecutive term is $3$. If we wanted to find the fifth term $a_5$, we would use the formula:</p>\n",
        "\n",
        "  $$a_5 = 2 + (5 - 1) \\cdot 3 = 2 + 4 \\cdot 3 = 2 + 12 = 14$$\n",
        "\n",
        "  Therefore, the fifth term of this arithmetic progression is $14$.\n",
        "\n",
        "  This sum can be found quickly by taking the number $n$ of terms being added (here $5$), multiplying by the sum of the first and last number in the progression (here $2 + 14 = 16$), and dividing by $2$:\n",
        "\n",
        "  $$\\frac{n(a_1 + a_n)}{2} = \\frac{5 \\cdot (2 + 14)}{2} = \\frac{5 \\cdot 16}{2} = 40$$"
      ],
      "metadata": {
        "id": "vb3UqCz7abYc"
      }
    },
    {
      "cell_type": "code",
      "execution_count": 88,
      "metadata": {
        "id": "RsffUQYWwYqe",
        "colab": {
          "base_uri": "https://localhost:8080/"
        },
        "outputId": "c4b20993-e21b-46f8-dced-1abd602caf4f"
      },
      "outputs": [
        {
          "output_type": "stream",
          "name": "stdout",
          "text": [
            "Summation of multiples of 3 or 5 below 1000: 233168\n",
            "Time taken: 7.62939453125e-06 seconds\n"
          ]
        }
      ],
      "source": [
        "import time\n",
        "\n",
        "def sum_multiples(limit):\n",
        "    def sum_arithmetic_progression(first_term, last_term, common_difference):\n",
        "        n = ((last_term - first_term) // common_difference) + 1 # n = ((a_n - a_1)/d) + 1\n",
        "        a_n = first_term + ((n - 1)*common_difference)          # arithmetic progression formula\n",
        "        return n * (first_term + a_n) // 2                      # closed-form summation formula\n",
        "\n",
        "    last_term = limit - 1  # we want multiples below 1000, therefore subtract 1\n",
        "    sum_of_multiples = (\n",
        "        sum_arithmetic_progression(3, last_term, 3) +\n",
        "        sum_arithmetic_progression(5, last_term, 5) -\n",
        "        sum_arithmetic_progression(15, last_term, 15)\n",
        "    )\n",
        "\n",
        "    return sum_of_multiples\n",
        "\n",
        "if __name__ == \"__main__\":\n",
        "    start_time = time.time()\n",
        "    result = sum_multiples(1000)\n",
        "    end_time = time.time()\n",
        "\n",
        "    print(\"Summation of multiples of 3 or 5 below 1000:\", result)\n",
        "    print(\"Time taken:\", end_time - start_time, \"seconds\")"
      ]
    },
    {
      "cell_type": "markdown",
      "source": [
        "### ${\\color{#BE3455}\\Large\\textbf{Hint-2:}}$"
      ],
      "metadata": {
        "id": "nnvvEuh0ICYa"
      }
    },
    {
      "cell_type": "markdown",
      "source": [
        "<p align=\"justify\"> For this problem, we can reduce 1000 operations to a few by using the inclusion-exclusion principle and a closed-form summation formula.\n",
        "\n",
        "- <p align=\"justify\"> Inclusion-exclusion principle: In combinatorics is a counting technique which generalizes the familiar method of obtaining the number of elements in the union of two finite sets; symbolically expressed as:\n",
        "\n",
        "\n",
        "$$|A \\cup B| = |A| + |B| - |A \\cap B|$$\n",
        "\n",
        "\n",
        "- <p align=\"justify\"> Closed-form summation formula:\n",
        "\n",
        "$$S_n = \\sum_{i=1}^{n} i = \\frac{n(n+1)}{2}\\$$\n",
        "\n",

        "${\\color{#BE3455}\\Large\\textbf{For this problem:}}$\n",
        "\n",

        "$\\text{sum}_{3 \\text{ or } 5}(n) = \\text{sum}_{3}(n) + \\text{sum}_{5}(n) - \\text{sum}_{15}(n)$\n",
        "\n",
        "$$\\text{sum}_{k}(n) = \\sum_{i=1}^{\\lfloor \\frac{n-1}{k} \\rfloor} ki$$\n",
        "\n",
        "$$\\sum_{i=1}^{p} ki = \\frac{kp(p+1)}{2}$$\n",
        "\n",
        "Where:\n",
        "\n",
        "$p=\\frac{n-1}{k}$\n"
      ],
      "metadata": {
        "id": "tCGnY-4O87B0"
      }
    },
    {
      "cell_type": "code",
      "source": [
        "import time\n",
        "\n",
        "def sum_multiples(limit):\n",
        "    def sum_multiples_below_limit(divisor): # k = divisor\n",
        "        p = (limit - 1) // divisor          # n = limit\n",
        "        return divisor * p * (p + 1) // 2   # closed-form summation formula\n",
        "\n",
        "    # inclusion-exclusion principle\n",
        "    return (\n",
        "        sum_multiples_below_limit(3) +\n",
        "        sum_multiples_below_limit(5) -\n",
        "        sum_multiples_below_limit(15)\n",
        "    )\n",
        "\n",
        "if __name__ == \"__main__\":\n",
        "    start_time = time.time()\n",
        "    result = sum_multiples(1000)\n",
        "    end_time = time.time()\n",
        "\n",
        "    print(\"Summation of multiples of 3 or 5 below 1000:\", result)\n",
        "    print(\"Time taken:\", end_time - start_time, \"seconds\")"
      ],
      "metadata": {
        "colab": {
          "base_uri": "https://localhost:8080/"
        },
        "id": "kkXxmjyC2_4q",
        "outputId": "a45fdde2-09dc-4899-db18-7fd2aab754c2"
      },
      "execution_count": 89,
      "outputs": [
        {
          "output_type": "stream",
          "name": "stdout",
          "text": [
            "Summation of multiples of 3 or 5 below 1000: 233168\n",
            "Time taken: 5.9604644775390625e-06 seconds\n"
          ]
        }
      ]
    }
  ]
}
